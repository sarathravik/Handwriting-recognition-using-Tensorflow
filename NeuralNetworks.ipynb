{
 "cells": [
  {
   "cell_type": "code",
   "execution_count": 1,
   "metadata": {},
   "outputs": [],
   "source": [
    "from numpy.random import seed\n",
    "seed(888)\n",
    "import tensorflow as tf\n",
    "tf.random.set_seed(404)"
   ]
  },
  {
   "cell_type": "markdown",
   "metadata": {},
   "source": [
    "# imports"
   ]
  },
  {
   "cell_type": "code",
   "execution_count": 2,
   "metadata": {},
   "outputs": [],
   "source": [
    "import os\n",
    "import numpy as np\n",
    "from time import strftime\n",
    "from PIL import Image\n",
    "\n",
    "\n"
   ]
  },
  {
   "cell_type": "markdown",
   "metadata": {},
   "source": [
    "# constants"
   ]
  },
  {
   "cell_type": "code",
   "execution_count": 3,
   "metadata": {},
   "outputs": [],
   "source": [
    "X_TRAIN_PATH='F:/python/MNIST/digit_xtrain.csv'\n",
    "Y_TRAIN_PATH='F:/python/MNIST/digit_ytrain.csv'\n",
    "X_TEST_PATH='F:/python/MNIST/digit_xtest.csv'\n",
    "Y_TEST_PATH='F:/python/MNIST/digit_ytest.csv'\n",
    "LOGGING_PATH='tensorboard_mnist_digit_logs/'\n",
    "NR_CLASSES=10\n",
    "VAL_DATA_SIZE=10000\n",
    "IMG_HGT=28\n",
    "IMG_WDH=28\n",
    "NR_CHANNEL=1\n",
    "TOTAL_INPUT=IMG_HGT*IMG_WDH*NR_CHANNEL"
   ]
  },
  {
   "cell_type": "markdown",
   "metadata": {},
   "source": [
    "# load data"
   ]
  },
  {
   "cell_type": "code",
   "execution_count": 4,
   "metadata": {},
   "outputs": [
    {
     "name": "stdout",
     "output_type": "stream",
     "text": [
      "Wall time: 45.8 s\n"
     ]
    },
    {
     "data": {
      "text/plain": [
       "(60000, 784)"
      ]
     },
     "execution_count": 4,
     "metadata": {},
     "output_type": "execute_result"
    }
   ],
   "source": [
    "%%time\n",
    "x_train_all=np.loadtxt(X_TRAIN_PATH, delimiter=',',dtype=int)\n",
    "x_train_all.shape"
   ]
  },
  {
   "cell_type": "code",
   "execution_count": 5,
   "metadata": {},
   "outputs": [
    {
     "name": "stdout",
     "output_type": "stream",
     "text": [
      "Wall time: 372 ms\n"
     ]
    },
    {
     "data": {
      "text/plain": [
       "(60000,)"
      ]
     },
     "execution_count": 5,
     "metadata": {},
     "output_type": "execute_result"
    }
   ],
   "source": [
    "%%time\n",
    "y_train_all=np.loadtxt(Y_TRAIN_PATH, delimiter=',',dtype=int)\n",
    "y_train_all.shape"
   ]
  },
  {
   "cell_type": "code",
   "execution_count": 6,
   "metadata": {},
   "outputs": [
    {
     "name": "stdout",
     "output_type": "stream",
     "text": [
      "Wall time: 7.52 s\n"
     ]
    }
   ],
   "source": [
    "%%time\n",
    "x_test=np.loadtxt(X_TEST_PATH, delimiter=',',dtype=int)"
   ]
  },
  {
   "cell_type": "code",
   "execution_count": 7,
   "metadata": {},
   "outputs": [
    {
     "name": "stdout",
     "output_type": "stream",
     "text": [
      "Wall time: 101 ms\n"
     ]
    }
   ],
   "source": [
    "%%time\n",
    "y_test=np.loadtxt(Y_TEST_PATH, delimiter=',',dtype=int)"
   ]
  },
  {
   "cell_type": "code",
   "execution_count": 8,
   "metadata": {},
   "outputs": [
    {
     "data": {
      "text/plain": [
       "(60000, 784)"
      ]
     },
     "execution_count": 8,
     "metadata": {},
     "output_type": "execute_result"
    }
   ],
   "source": [
    "x_train_all.shape"
   ]
  },
  {
   "cell_type": "code",
   "execution_count": 9,
   "metadata": {},
   "outputs": [
    {
     "data": {
      "text/plain": [
       "array([  0,   0,   0,   0,   0,   0,   0,   0,   0,   0,   0,   0,   0,\n",
       "         0,   0,   0,   0,   0,   0,   0,   0,   0,   0,   0,   0,   0,\n",
       "         0,   0,   0,   0,   0,   0,   0,   0,   0,   0,   0,   0,   0,\n",
       "         0,   0,   0,   0,   0,   0,   0,   0,   0,   0,   0,   0,   0,\n",
       "         0,   0,   0,   0,   0,   0,   0,   0,   0,   0,   0,   0,   0,\n",
       "         0,   0,   0,   0,   0,   0,   0,   0,   0,   0,   0,   0,   0,\n",
       "         0,   0,   0,   0,   0,   0,   0,   0,   0,   0,   0,   0,   0,\n",
       "         0,   0,   0,   0,   0,   0,   0,   0,   0,   0,   0,   0,   0,\n",
       "         0,   0,   0,   0,   0,   0,   0,   0,   0,   0,   0,   0,   0,\n",
       "         0,   0,   0,   0,   0,   0,   0,   0,   0,   0,   0,   0,   0,\n",
       "         0,   0,   0,   0,   0,   0,   0,   0,   0,   0,   0,   0,   0,\n",
       "         0,   0,   0,   0,   0,   0,   0,   0,   0,   3,  18,  18,  18,\n",
       "       126, 136, 175,  26, 166, 255, 247, 127,   0,   0,   0,   0,   0,\n",
       "         0,   0,   0,   0,   0,   0,   0,  30,  36,  94, 154, 170, 253,\n",
       "       253, 253, 253, 253, 225, 172, 253, 242, 195,  64,   0,   0,   0,\n",
       "         0,   0,   0,   0,   0,   0,   0,   0,  49, 238, 253, 253, 253,\n",
       "       253, 253, 253, 253, 253, 251,  93,  82,  82,  56,  39,   0,   0,\n",
       "         0,   0,   0,   0,   0,   0,   0,   0,   0,   0,  18, 219, 253,\n",
       "       253, 253, 253, 253, 198, 182, 247, 241,   0,   0,   0,   0,   0,\n",
       "         0,   0,   0,   0,   0,   0,   0,   0,   0,   0,   0,   0,   0,\n",
       "        80, 156, 107, 253, 253, 205,  11,   0,  43, 154,   0,   0,   0,\n",
       "         0,   0,   0,   0,   0,   0,   0,   0,   0,   0,   0,   0,   0,\n",
       "         0,   0,   0,  14,   1, 154, 253,  90,   0,   0,   0,   0,   0,\n",
       "         0,   0,   0,   0,   0,   0,   0,   0,   0,   0,   0,   0,   0,\n",
       "         0,   0,   0,   0,   0,   0,   0, 139, 253, 190,   2,   0,   0,\n",
       "         0,   0,   0,   0,   0,   0,   0,   0,   0,   0,   0,   0,   0,\n",
       "         0,   0,   0,   0,   0,   0,   0,   0,   0,  11, 190, 253,  70,\n",
       "         0,   0,   0,   0,   0,   0,   0,   0,   0,   0,   0,   0,   0,\n",
       "         0,   0,   0,   0,   0,   0,   0,   0,   0,   0,   0,   0,  35,\n",
       "       241, 225, 160, 108,   1,   0,   0,   0,   0,   0,   0,   0,   0,\n",
       "         0,   0,   0,   0,   0,   0,   0,   0,   0,   0,   0,   0,   0,\n",
       "         0,   0,  81, 240, 253, 253, 119,  25,   0,   0,   0,   0,   0,\n",
       "         0,   0,   0,   0,   0,   0,   0,   0,   0,   0,   0,   0,   0,\n",
       "         0,   0,   0,   0,   0,  45, 186, 253, 253, 150,  27,   0,   0,\n",
       "         0,   0,   0,   0,   0,   0,   0,   0,   0,   0,   0,   0,   0,\n",
       "         0,   0,   0,   0,   0,   0,   0,   0,  16,  93, 252, 253, 187,\n",
       "         0,   0,   0,   0,   0,   0,   0,   0,   0,   0,   0,   0,   0,\n",
       "         0,   0,   0,   0,   0,   0,   0,   0,   0,   0,   0,   0, 249,\n",
       "       253, 249,  64,   0,   0,   0,   0,   0,   0,   0,   0,   0,   0,\n",
       "         0,   0,   0,   0,   0,   0,   0,   0,   0,   0,   0,  46, 130,\n",
       "       183, 253, 253, 207,   2,   0,   0,   0,   0,   0,   0,   0,   0,\n",
       "         0,   0,   0,   0,   0,   0,   0,   0,   0,   0,   0,  39, 148,\n",
       "       229, 253, 253, 253, 250, 182,   0,   0,   0,   0,   0,   0,   0,\n",
       "         0,   0,   0,   0,   0,   0,   0,   0,   0,   0,   0,  24, 114,\n",
       "       221, 253, 253, 253, 253, 201,  78,   0,   0,   0,   0,   0,   0,\n",
       "         0,   0,   0,   0,   0,   0,   0,   0,   0,   0,   0,  23,  66,\n",
       "       213, 253, 253, 253, 253, 198,  81,   2,   0,   0,   0,   0,   0,\n",
       "         0,   0,   0,   0,   0,   0,   0,   0,   0,   0,   0,  18, 171,\n",
       "       219, 253, 253, 253, 253, 195,  80,   9,   0,   0,   0,   0,   0,\n",
       "         0,   0,   0,   0,   0,   0,   0,   0,   0,   0,   0,  55, 172,\n",
       "       226, 253, 253, 253, 253, 244, 133,  11,   0,   0,   0,   0,   0,\n",
       "         0,   0,   0,   0,   0,   0,   0,   0,   0,   0,   0,   0,   0,\n",
       "       136, 253, 253, 253, 212, 135, 132,  16,   0,   0,   0,   0,   0,\n",
       "         0,   0,   0,   0,   0,   0,   0,   0,   0,   0,   0,   0,   0,\n",
       "         0,   0,   0,   0,   0,   0,   0,   0,   0,   0,   0,   0,   0,\n",
       "         0,   0,   0,   0,   0,   0,   0,   0,   0,   0,   0,   0,   0,\n",
       "         0,   0,   0,   0,   0,   0,   0,   0,   0,   0,   0,   0,   0,\n",
       "         0,   0,   0,   0,   0,   0,   0,   0,   0,   0,   0,   0,   0,\n",
       "         0,   0,   0,   0,   0,   0,   0,   0,   0,   0,   0,   0,   0,\n",
       "         0,   0,   0,   0,   0,   0,   0,   0,   0,   0,   0,   0,   0,\n",
       "         0,   0,   0,   0])"
      ]
     },
     "execution_count": 9,
     "metadata": {},
     "output_type": "execute_result"
    }
   ],
   "source": [
    "x_train_all[0]"
   ]
  },
  {
   "cell_type": "code",
   "execution_count": 10,
   "metadata": {},
   "outputs": [
    {
     "data": {
      "text/plain": [
       "(60000,)"
      ]
     },
     "execution_count": 10,
     "metadata": {},
     "output_type": "execute_result"
    }
   ],
   "source": [
    "y_train_all.shape"
   ]
  },
  {
   "cell_type": "code",
   "execution_count": 11,
   "metadata": {},
   "outputs": [
    {
     "data": {
      "text/plain": [
       "array([5, 0, 4, 1, 9])"
      ]
     },
     "execution_count": 11,
     "metadata": {},
     "output_type": "execute_result"
    }
   ],
   "source": [
    "y_train_all[:5]"
   ]
  },
  {
   "cell_type": "markdown",
   "metadata": {},
   "source": [
    "# data preprocessing"
   ]
  },
  {
   "cell_type": "code",
   "execution_count": 12,
   "metadata": {},
   "outputs": [],
   "source": [
    "x_train_all,x_test=x_train_all/255,x_test/255"
   ]
  },
  {
   "cell_type": "markdown",
   "metadata": {},
   "source": [
    "## convert target values to hot encoding"
   ]
  },
  {
   "cell_type": "code",
   "execution_count": 13,
   "metadata": {},
   "outputs": [
    {
     "data": {
      "text/plain": [
       "array([5, 0, 4, 1, 9])"
      ]
     },
     "execution_count": 13,
     "metadata": {},
     "output_type": "execute_result"
    }
   ],
   "source": [
    "values=y_train_all[:5]\n",
    "values"
   ]
  },
  {
   "cell_type": "code",
   "execution_count": 14,
   "metadata": {},
   "outputs": [
    {
     "data": {
      "text/plain": [
       "array([[0., 0., 0., 0., 0., 1., 0., 0., 0., 0.],\n",
       "       [1., 0., 0., 0., 0., 0., 0., 0., 0., 0.],\n",
       "       [0., 0., 0., 0., 1., 0., 0., 0., 0., 0.],\n",
       "       [0., 1., 0., 0., 0., 0., 0., 0., 0., 0.],\n",
       "       [0., 0., 0., 0., 0., 0., 0., 0., 0., 1.]])"
      ]
     },
     "execution_count": 14,
     "metadata": {},
     "output_type": "execute_result"
    }
   ],
   "source": [
    "np.eye(10)[values] # values acts as index array each num in values pills out rows from np.eye(10)corresponds to num from values\n",
    "                    # eg: values[0] is 5 it pulls out 6th row from np.eye(10) as index starts from 0"
   ]
  },
  {
   "cell_type": "code",
   "execution_count": 15,
   "metadata": {},
   "outputs": [
    {
     "data": {
      "text/plain": [
       "array([[1., 0., 0., 0., 0., 0., 0., 0., 0., 0.],\n",
       "       [0., 1., 0., 0., 0., 0., 0., 0., 0., 0.],\n",
       "       [0., 0., 1., 0., 0., 0., 0., 0., 0., 0.],\n",
       "       [0., 0., 0., 1., 0., 0., 0., 0., 0., 0.],\n",
       "       [0., 0., 0., 0., 1., 0., 0., 0., 0., 0.],\n",
       "       [0., 0., 0., 0., 0., 1., 0., 0., 0., 0.],\n",
       "       [0., 0., 0., 0., 0., 0., 1., 0., 0., 0.],\n",
       "       [0., 0., 0., 0., 0., 0., 0., 1., 0., 0.],\n",
       "       [0., 0., 0., 0., 0., 0., 0., 0., 1., 0.],\n",
       "       [0., 0., 0., 0., 0., 0., 0., 0., 0., 1.]])"
      ]
     },
     "execution_count": 15,
     "metadata": {},
     "output_type": "execute_result"
    }
   ],
   "source": [
    "np.eye(10)"
   ]
  },
  {
   "cell_type": "code",
   "execution_count": 16,
   "metadata": {},
   "outputs": [
    {
     "data": {
      "text/plain": [
       "array([[0., 0., 0., 0., 0., 1., 0., 0., 0., 0.],\n",
       "       [1., 0., 0., 0., 0., 0., 0., 0., 0., 0.],\n",
       "       [0., 0., 0., 0., 1., 0., 0., 0., 0., 0.],\n",
       "       [0., 1., 0., 0., 0., 0., 0., 0., 0., 0.],\n",
       "       [0., 0., 0., 0., 0., 0., 0., 0., 0., 1.]])"
      ]
     },
     "execution_count": 16,
     "metadata": {},
     "output_type": "execute_result"
    }
   ],
   "source": [
    "y_train_all=np.eye(NR_CLASSES)[y_train_all]\n",
    "y_train_all[:5]\n"
   ]
  },
  {
   "cell_type": "code",
   "execution_count": 17,
   "metadata": {},
   "outputs": [
    {
     "data": {
      "text/plain": [
       "(10000, 10)"
      ]
     },
     "execution_count": 17,
     "metadata": {},
     "output_type": "execute_result"
    }
   ],
   "source": [
    "y_test = np.eye(NR_CLASSES)[y_test]\n",
    "y_test.shape"
   ]
  },
  {
   "cell_type": "code",
   "execution_count": 18,
   "metadata": {},
   "outputs": [
    {
     "data": {
      "text/plain": [
       "(10000, 784)"
      ]
     },
     "execution_count": 18,
     "metadata": {},
     "output_type": "execute_result"
    }
   ],
   "source": [
    "x_val=x_train_all[:VAL_DATA_SIZE]\n",
    "y_val=y_train_all[:VAL_DATA_SIZE]\n",
    "x_val.shape"
   ]
  },
  {
   "cell_type": "code",
   "execution_count": 19,
   "metadata": {},
   "outputs": [
    {
     "data": {
      "text/plain": [
       "(50000, 784)"
      ]
     },
     "execution_count": 19,
     "metadata": {},
     "output_type": "execute_result"
    }
   ],
   "source": [
    "x_train=x_train_all[VAL_DATA_SIZE:]\n",
    "y_train=y_train_all[VAL_DATA_SIZE:]\n",
    "x_train.shape"
   ]
  },
  {
   "cell_type": "markdown",
   "metadata": {},
   "source": [
    "# Setup Tensorflow graph"
   ]
  },
  {
   "cell_type": "code",
   "execution_count": 20,
   "metadata": {},
   "outputs": [],
   "source": [
    "tf.compat.v1.disable_eager_execution()\n",
    "X=tf.compat.v1.placeholder(tf.float32,shape=[None,TOTAL_INPUT],name='x')\n",
    "Y=tf.compat.v1.placeholder(tf.float32,shape=[None,NR_CLASSES],name='labels')\n",
    "\n"
   ]
  },
  {
   "cell_type": "markdown",
   "metadata": {},
   "source": [
    "# hyper parameters"
   ]
  },
  {
   "cell_type": "code",
   "execution_count": 21,
   "metadata": {},
   "outputs": [],
   "source": [
    "nr_epochs=50\n",
    "learning_rate=1e-3 #.0001\n",
    "\n",
    "n_hidden1=512\n",
    "n_hidden2=64"
   ]
  },
  {
   "cell_type": "code",
   "execution_count": 22,
   "metadata": {},
   "outputs": [],
   "source": [
    "def setup_layer(input,weight_dim,bias_dim,name):\n",
    "    with tf.name_scope(name):\n",
    "        initial_w=tf.compat.v1.random.truncated_normal(shape=weight_dim,stddev=0.1,seed=42)\n",
    "        w=tf.Variable(initial_value=initial_w,name='W')\n",
    "        initial_b=tf.constant(value=0.0,shape=bias_dim)\n",
    "        b=tf.Variable(initial_value=initial_b,name='B')\n",
    "        layer_in=tf.matmul(input,w)+b\n",
    "        if name=='out':\n",
    "            layer_out=tf.nn.softmax(layer_in)\n",
    "        else:\n",
    "            layer_out=tf.nn.relu(layer_in)\n",
    "\n",
    "\n",
    "        tf.compat.v1.summary.histogram('weights', w)\n",
    "        tf.compat.v1.summary.histogram('biases', b)\n",
    "\n",
    "        return layer_out\n",
    "\n",
    "    "
   ]
  },
  {
   "cell_type": "code",
   "execution_count": 23,
   "metadata": {},
   "outputs": [],
   "source": [
    "# def setup_layer(input, weight_dim, bias_dim, name):\n",
    "    \n",
    "#     with tf.name_scope(name):\n",
    "#         initial_w = tf.compat.v1.random.truncated_normal(shape=weight_dim, stddev=0.1, seed=42)\n",
    "#         w = tf.Variable(initial_value=initial_w, name='W')\n",
    "\n",
    "#         initial_b = tf.constant(value=0.0, shape=bias_dim)\n",
    "#         b = tf.Variable(initial_value=initial_b, name='B')\n",
    "\n",
    "#         layer_in = tf.matmul(input, w) + b\n",
    "        \n",
    "#         if name=='out':\n",
    "#             layer_out = tf.nn.softmax(layer_in)\n",
    "#         else:\n",
    "#             layer_out = tf.nn.relu(layer_in)\n",
    "        \n",
    "#         tf.summary.histogram('weights', w)\n",
    "#         tf.summary.histogram('biases', b)\n",
    "        \n",
    "#         return layer_out"
   ]
  },
  {
   "cell_type": "code",
   "execution_count": 24,
   "metadata": {},
   "outputs": [],
   "source": [
    "layer1=setup_layer(X,weight_dim=[TOTAL_INPUT,n_hidden1],bias_dim=[n_hidden1],name='hidden1')\n",
    "\n",
    "layer_drop = tf.nn.dropout(layer1, rate=0.2, name='dropout_layer')\n",
    "\n",
    "layer2=setup_layer(layer_drop,weight_dim=[n_hidden1,n_hidden2],bias_dim=[n_hidden2],name='hidden2')\n",
    "\n",
    "output=setup_layer(layer2,weight_dim=[n_hidden2,NR_CLASSES],bias_dim=[NR_CLASSES],name='out')\n",
    "\n",
    "model_name = f'{n_hidden1}-DO-{n_hidden2} LR{learning_rate} E{nr_epochs}'"
   ]
  },
  {
   "cell_type": "code",
   "execution_count": null,
   "metadata": {},
   "outputs": [],
   "source": []
  },
  {
   "cell_type": "markdown",
   "metadata": {},
   "source": [
    "# Tensorboard setup"
   ]
  },
  {
   "cell_type": "code",
   "execution_count": 25,
   "metadata": {},
   "outputs": [
    {
     "name": "stdout",
     "output_type": "stream",
     "text": [
      "successfully created directory\n"
     ]
    }
   ],
   "source": [
    "folder_name=f'{model_name} at{strftime(\"%H %M\")}'\n",
    "directory=os.path.join(LOGGING_PATH,folder_name)\n",
    "try:\n",
    "    os.makedirs(directory)\n",
    "except OSError as exception:\n",
    "    print(exception.strerror)\n",
    "else:\n",
    "    print('successfully created directory')"
   ]
  },
  {
   "cell_type": "markdown",
   "metadata": {},
   "source": [
    "# Loss, Optimisation & Metrics"
   ]
  },
  {
   "cell_type": "markdown",
   "metadata": {},
   "source": [
    "# loss"
   ]
  },
  {
   "cell_type": "code",
   "execution_count": 26,
   "metadata": {},
   "outputs": [],
   "source": [
    "with tf.name_scope('loss_calc'):\n",
    "    loss=tf.reduce_mean(tf.nn.softmax_cross_entropy_with_logits(labels=Y,logits=output))"
   ]
  },
  {
   "cell_type": "markdown",
   "metadata": {},
   "source": [
    "# optimiser"
   ]
  },
  {
   "cell_type": "code",
   "execution_count": 27,
   "metadata": {},
   "outputs": [],
   "source": [
    "with tf.name_scope('optimisation'):\n",
    "    optimiser=tf.compat.v1.train.AdamOptimizer(learning_rate=learning_rate)\n",
    "    train_step=optimiser.minimize(loss)"
   ]
  },
  {
   "cell_type": "markdown",
   "metadata": {},
   "source": [
    "# accuracy"
   ]
  },
  {
   "cell_type": "code",
   "execution_count": 28,
   "metadata": {},
   "outputs": [],
   "source": [
    "with tf.name_scope('accuracy'):\n",
    "    correct_pred=tf.equal(tf.argmax(output,axis=1),tf.argmax(Y,axis=1))\n",
    "    accuracy=tf.reduce_mean(tf.cast(correct_pred,tf.float32))"
   ]
  },
  {
   "cell_type": "code",
   "execution_count": 29,
   "metadata": {},
   "outputs": [],
   "source": [
    "with tf.name_scope('performance'):\n",
    "    tf.compat.v1.summary.scalar('accuracy',accuracy)\n",
    "    tf.compat.v1.summary.scalar('cost',loss)\n"
   ]
  },
  {
   "cell_type": "code",
   "execution_count": 30,
   "metadata": {},
   "outputs": [],
   "source": [
    "with tf.name_scope('show_image'):\n",
    "    x_image = tf.reshape(X, [-1, 28, 28, 1])\n",
    "    tf.compat.v1.summary.image('image_input', x_image, max_outputs=4)"
   ]
  },
  {
   "cell_type": "markdown",
   "metadata": {},
   "source": [
    "# Run session"
   ]
  },
  {
   "cell_type": "code",
   "execution_count": 31,
   "metadata": {},
   "outputs": [],
   "source": [
    "sess=tf.compat.v1.Session()\n"
   ]
  },
  {
   "cell_type": "markdown",
   "metadata": {},
   "source": [
    "### setup filewriter & merge summaries"
   ]
  },
  {
   "cell_type": "code",
   "execution_count": 32,
   "metadata": {},
   "outputs": [],
   "source": [
    "merged_summary = tf.compat.v1.summary.merge_all()\n",
    "\n",
    "train_writer = tf.compat.v1.summary.FileWriter(directory + '/train')\n",
    "train_writer.add_graph(sess.graph)\n",
    "\n",
    "validation_writer = tf.compat.v1.summary.FileWriter(directory + '/validation')"
   ]
  },
  {
   "cell_type": "code",
   "execution_count": 33,
   "metadata": {},
   "outputs": [],
   "source": [
    "init=tf.compat.v1.global_variables_initializer()\n",
    "sess.run(init)"
   ]
  },
  {
   "cell_type": "markdown",
   "metadata": {},
   "source": [
    "# Batching the data"
   ]
  },
  {
   "cell_type": "code",
   "execution_count": 34,
   "metadata": {},
   "outputs": [],
   "source": [
    "size_of_batch=1000\n",
    "num_examples=y_train.shape[0]\n",
    "nr_iterations=int(num_examples/size_of_batch)\n",
    "index_in_epoch=0"
   ]
  },
  {
   "cell_type": "code",
   "execution_count": 35,
   "metadata": {},
   "outputs": [],
   "source": [
    "def next_batch(batch_size,data,labels):\n",
    "    global num_examples\n",
    "    global index_in_epoch # referencing value outside the function\n",
    "    start=index_in_epoch\n",
    "    index_in_epoch+=batch_size\n",
    "    if index_in_epoch>num_examples:\n",
    "        start=0\n",
    "        index_in_epoch=batch_size\n",
    "    end=index_in_epoch\n",
    "    return data[start:end],labels[start:end]\n",
    "    \n",
    "        "
   ]
  },
  {
   "cell_type": "markdown",
   "metadata": {},
   "source": [
    "# training loop"
   ]
  },
  {
   "cell_type": "code",
   "execution_count": 36,
   "metadata": {},
   "outputs": [
    {
     "name": "stdout",
     "output_type": "stream",
     "text": [
      "Epoch 0 \t| Trainig Accuracy =0.8510000109672546\n",
      "Epoch 1 \t| Trainig Accuracy =0.8650000095367432\n",
      "Epoch 2 \t| Trainig Accuracy =0.8690000176429749\n",
      "Epoch 3 \t| Trainig Accuracy =0.8700000047683716\n",
      "Epoch 4 \t| Trainig Accuracy =0.8730000257492065\n",
      "Epoch 5 \t| Trainig Accuracy =0.8740000128746033\n",
      "Epoch 6 \t| Trainig Accuracy =0.9760000109672546\n",
      "Epoch 7 \t| Trainig Accuracy =0.9789999723434448\n",
      "Epoch 8 \t| Trainig Accuracy =0.9789999723434448\n",
      "Epoch 9 \t| Trainig Accuracy =0.9860000014305115\n",
      "Epoch 10 \t| Trainig Accuracy =0.9829999804496765\n",
      "Epoch 11 \t| Trainig Accuracy =0.9869999885559082\n",
      "Epoch 12 \t| Trainig Accuracy =0.9860000014305115\n",
      "Epoch 13 \t| Trainig Accuracy =0.984000027179718\n",
      "Epoch 14 \t| Trainig Accuracy =0.9879999756813049\n",
      "Epoch 15 \t| Trainig Accuracy =0.9890000224113464\n",
      "Epoch 16 \t| Trainig Accuracy =0.9879999756813049\n",
      "Epoch 17 \t| Trainig Accuracy =0.9860000014305115\n",
      "Epoch 18 \t| Trainig Accuracy =0.9900000095367432\n",
      "Epoch 19 \t| Trainig Accuracy =0.9879999756813049\n",
      "Epoch 20 \t| Trainig Accuracy =0.9909999966621399\n",
      "Epoch 21 \t| Trainig Accuracy =0.9890000224113464\n",
      "Epoch 22 \t| Trainig Accuracy =0.9879999756813049\n",
      "Epoch 23 \t| Trainig Accuracy =0.9890000224113464\n",
      "Epoch 24 \t| Trainig Accuracy =0.9879999756813049\n",
      "Epoch 25 \t| Trainig Accuracy =0.9900000095367432\n",
      "Epoch 26 \t| Trainig Accuracy =0.9909999966621399\n",
      "Epoch 27 \t| Trainig Accuracy =0.9909999966621399\n",
      "Epoch 28 \t| Trainig Accuracy =0.9909999966621399\n",
      "Epoch 29 \t| Trainig Accuracy =0.9929999709129333\n",
      "Epoch 30 \t| Trainig Accuracy =0.9909999966621399\n",
      "Epoch 31 \t| Trainig Accuracy =0.9919999837875366\n",
      "Epoch 32 \t| Trainig Accuracy =0.9919999837875366\n",
      "Epoch 33 \t| Trainig Accuracy =0.9940000176429749\n",
      "Epoch 34 \t| Trainig Accuracy =0.9929999709129333\n",
      "Epoch 35 \t| Trainig Accuracy =0.9929999709129333\n",
      "Epoch 36 \t| Trainig Accuracy =0.9929999709129333\n",
      "Epoch 37 \t| Trainig Accuracy =0.9940000176429749\n",
      "Epoch 38 \t| Trainig Accuracy =0.9929999709129333\n",
      "Epoch 39 \t| Trainig Accuracy =0.9940000176429749\n",
      "Epoch 40 \t| Trainig Accuracy =0.9929999709129333\n",
      "Epoch 41 \t| Trainig Accuracy =0.9940000176429749\n",
      "Epoch 42 \t| Trainig Accuracy =0.9940000176429749\n",
      "Epoch 43 \t| Trainig Accuracy =0.9929999709129333\n",
      "Epoch 44 \t| Trainig Accuracy =0.9940000176429749\n",
      "Epoch 45 \t| Trainig Accuracy =0.9929999709129333\n",
      "Epoch 46 \t| Trainig Accuracy =0.9940000176429749\n",
      "Epoch 47 \t| Trainig Accuracy =0.9929999709129333\n",
      "Epoch 48 \t| Trainig Accuracy =0.9940000176429749\n",
      "Epoch 49 \t| Trainig Accuracy =0.9940000176429749\n",
      "DONE TRAINING !!\n"
     ]
    }
   ],
   "source": [
    "for epochs in range(nr_epochs):\n",
    "    for i in range(nr_iterations):\n",
    "        \n",
    "        batch_x,batch_y=next_batch(batch_size=size_of_batch,data=x_train,labels=y_train)\n",
    "        feed_dictionary={X:batch_x,Y:batch_y}\n",
    "        \n",
    "        sess.run(train_step,feed_dict=feed_dictionary)\n",
    "        \n",
    "    batch_accuracy,s=sess.run(fetches=[accuracy,merged_summary], feed_dict=feed_dictionary)\n",
    "    train_writer.add_summary(s,epochs)\n",
    "    print(f'Epoch {epochs} \\t| Trainig Accuracy ={batch_accuracy}')\n",
    "    \n",
    "    #validation\n",
    "    \n",
    "    summary=sess.run(fetches=merged_summary,feed_dict={X:x_val,Y:y_val})\n",
    "    validation_writer.add_summary(summary,epochs)\n",
    "    \n",
    " \n",
    "\n",
    "print('DONE TRAINING !!')\n",
    "     "
   ]
  },
  {
   "cell_type": "markdown",
   "metadata": {},
   "source": [
    "# make prediction"
   ]
  },
  {
   "cell_type": "code",
   "execution_count": 37,
   "metadata": {},
   "outputs": [
    {
     "data": {
      "image/png": "[encoded data removed]",
      "text/plain": [
       "<PIL.PngImagePlugin.PngImageFile image mode=RGBA size=28x28 at 0x22F0074F700>"
      ]
     },
     "execution_count": 37,
     "metadata": {},
     "output_type": "execute_result"
    }
   ],
   "source": [
    "img=Image.open('F:/python/MNIST/test_img.png')\n",
    "img"
   ]
  },
  {
   "cell_type": "code",
   "execution_count": 38,
   "metadata": {},
   "outputs": [],
   "source": [
    "black_white=img.convert('L')\n"
   ]
  },
  {
   "cell_type": "code",
   "execution_count": 39,
   "metadata": {},
   "outputs": [
    {
     "data": {
      "text/plain": [
       "(28, 28)"
      ]
     },
     "execution_count": 39,
     "metadata": {},
     "output_type": "execute_result"
    }
   ],
   "source": [
    "img_array=np.invert(black_white)\n",
    "img_array.shape"
   ]
  },
  {
   "cell_type": "code",
   "execution_count": 40,
   "metadata": {},
   "outputs": [],
   "source": [
    "test_img=img_array.ravel()"
   ]
  },
  {
   "cell_type": "code",
   "execution_count": 41,
   "metadata": {},
   "outputs": [
    {
     "name": "stdout",
     "output_type": "stream",
     "text": [
      "prediction for the test image is [0 0 0 0 0 0 0 0 0 0]\n"
     ]
    }
   ],
   "source": [
    "prediction=sess.run(fetches=tf.argmax(output),feed_dict={X:[test_img]})\n",
    "print(f'prediction for the test image is {prediction}')"
   ]
  },
  {
   "cell_type": "code",
   "execution_count": 42,
   "metadata": {},
   "outputs": [
    {
     "name": "stdout",
     "output_type": "stream",
     "text": [
      "Accuracy of test data prediction is 97.74%\n"
     ]
    }
   ],
   "source": [
    "accuracy_test=sess.run(fetches=accuracy,feed_dict={X:x_test,Y:y_test})\n",
    "print(f'Accuracy of test data prediction is {accuracy_test:.2%}')"
   ]
  },
  {
   "cell_type": "markdown",
   "metadata": {},
   "source": [
    "# reset for next run"
   ]
  },
  {
   "cell_type": "code",
   "execution_count": 43,
   "metadata": {},
   "outputs": [],
   "source": [
    "train_writer.close()\n",
    "validation_writer.close()\n",
    "sess.close()\n",
    "tf.compat.v1.reset_default_graph()"
   ]
  }
 ],
 "metadata": {
  "kernelspec": {
   "display_name": "Python 3",
   "language": "python",
   "name": "python3"
  },
  "language_info": {
   "codemirror_mode": {
    "name": "ipython",
    "version": 3
   },
   "file_extension": ".py",
   "mimetype": "text/x-python",
   "name": "python",
   "nbconvert_exporter": "python",
   "pygments_lexer": "ipython3",
   "version": "3.8.5"
  }
 },
 "nbformat": 4,
 "nbformat_minor": 4
}
